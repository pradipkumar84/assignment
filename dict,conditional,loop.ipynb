{
 "cells": [
  {
   "cell_type": "code",
   "execution_count": 2,
   "id": "68ac75c8-aa57-4a9e-9ed7-c1ee3788987c",
   "metadata": {},
   "outputs": [],
   "source": [
    "d={}"
   ]
  },
  {
   "cell_type": "code",
   "execution_count": 3,
   "id": "c1e4768f-b327-4548-9eb1-380bbc65ccbb",
   "metadata": {},
   "outputs": [
    {
     "data": {
      "text/plain": [
       "dict"
      ]
     },
     "execution_count": 3,
     "metadata": {},
     "output_type": "execute_result"
    }
   ],
   "source": [
    "type(d)"
   ]
  },
  {
   "cell_type": "code",
   "execution_count": 4,
   "id": "70c89bce-a292-45ed-a32c-75d4e751180d",
   "metadata": {},
   "outputs": [],
   "source": [
    "d1={'key':'kumar'}"
   ]
  },
  {
   "cell_type": "code",
   "execution_count": 5,
   "id": "b704d09e-b3dd-483e-9dbd-dbd0afd5175e",
   "metadata": {},
   "outputs": [
    {
     "data": {
      "text/plain": [
       "{'key': 'kumar'}"
      ]
     },
     "execution_count": 5,
     "metadata": {},
     "output_type": "execute_result"
    }
   ],
   "source": [
    "d1"
   ]
  },
  {
   "cell_type": "code",
   "execution_count": 6,
   "id": "cf80dfba-fd84-48fd-9bce-385c3fa58d91",
   "metadata": {},
   "outputs": [],
   "source": [
    "d2={'name':'praip',\"email\" : \"nbhbhgmail.com\" , \"mob\": 5252525 }"
   ]
  },
  {
   "cell_type": "code",
   "execution_count": 7,
   "id": "224dfe8b-fc4c-4d14-9e8f-f1d21c456eda",
   "metadata": {},
   "outputs": [
    {
     "data": {
      "text/plain": [
       "{'name': 'praip', 'email': 'nbhbhgmail.com', 'mob': 5252525}"
      ]
     },
     "execution_count": 7,
     "metadata": {},
     "output_type": "execute_result"
    }
   ],
   "source": [
    "d2"
   ]
  },
  {
   "cell_type": "code",
   "execution_count": 8,
   "id": "cc12c018-3427-4e9d-bd68-893ed011cf85",
   "metadata": {},
   "outputs": [],
   "source": [
    "d3={234:'kumar','-good':'brn',True:'good'}"
   ]
  },
  {
   "cell_type": "code",
   "execution_count": 9,
   "id": "e8d7d44e-7eab-4721-875a-dc7542fb0749",
   "metadata": {},
   "outputs": [
    {
     "data": {
      "text/plain": [
       "{234: 'kumar', '-good': 'brn', True: 'good'}"
      ]
     },
     "execution_count": 9,
     "metadata": {},
     "output_type": "execute_result"
    }
   ],
   "source": [
    "d3"
   ]
  },
  {
   "cell_type": "code",
   "execution_count": 10,
   "id": "96b037b7-c00d-442f-ae02-f848ba0355e4",
   "metadata": {},
   "outputs": [
    {
     "data": {
      "text/plain": [
       "'kumar'"
      ]
     },
     "execution_count": 10,
     "metadata": {},
     "output_type": "execute_result"
    }
   ],
   "source": [
    "d3[234]"
   ]
  },
  {
   "cell_type": "code",
   "execution_count": 11,
   "id": "deeed57f-1a39-4853-95f3-4d791ae96c83",
   "metadata": {},
   "outputs": [
    {
     "data": {
      "text/plain": [
       "'good'"
      ]
     },
     "execution_count": 11,
     "metadata": {},
     "output_type": "execute_result"
    }
   ],
   "source": [
    "d3[True]"
   ]
  },
  {
   "cell_type": "code",
   "execution_count": 12,
   "id": "024aef7d-da29-4f44-983c-9b1656d74885",
   "metadata": {},
   "outputs": [
    {
     "data": {
      "text/plain": [
       "'good'"
      ]
     },
     "execution_count": 12,
     "metadata": {},
     "output_type": "execute_result"
    }
   ],
   "source": [
    "d3[1]"
   ]
  },
  {
   "cell_type": "code",
   "execution_count": 15,
   "id": "86d3bf76-8f86-42d3-8153-c6ecdc4ad502",
   "metadata": {},
   "outputs": [],
   "source": [
    "d4={'name': 'kumar', 'mail_id': 'pradip123@gmail.com', 'name': 'pradip'}"
   ]
  },
  {
   "cell_type": "code",
   "execution_count": 16,
   "id": "6f2e4de1-c2bc-42f2-828e-3c4f6f87c764",
   "metadata": {},
   "outputs": [
    {
     "data": {
      "text/plain": [
       "'pradip'"
      ]
     },
     "execution_count": 16,
     "metadata": {},
     "output_type": "execute_result"
    }
   ],
   "source": [
    "d4['name']"
   ]
  },
  {
   "cell_type": "code",
   "execution_count": 19,
   "id": "a5b8401b-4e72-4705-a97d-9f8c134f9eb6",
   "metadata": {},
   "outputs": [],
   "source": [
    "d5={'company':'pwskils','corser':['web dev','data scince','java with system degine']}"
   ]
  },
  {
   "cell_type": "code",
   "execution_count": 21,
   "id": "877d6553-0e5d-4c0d-ae51-f74143b6940f",
   "metadata": {},
   "outputs": [
    {
     "data": {
      "text/plain": [
       "'java with system degine'"
      ]
     },
     "execution_count": 21,
     "metadata": {},
     "output_type": "execute_result"
    }
   ],
   "source": [
    "d5['corser'][2]"
   ]
  },
  {
   "cell_type": "code",
   "execution_count": 44,
   "id": "9b64825b-b379-4691-8a00-eaf90ef4af40",
   "metadata": {},
   "outputs": [],
   "source": [
    "d6={'number':[2,34,3,34,34], 'assignment':(1,2,3,4,5,6), 'launch_date':{12,14,28}, 'class_time':{'web_dev':8,'data scince master':9,'java with dsa and system design':7}}"
   ]
  },
  {
   "cell_type": "code",
   "execution_count": 45,
   "id": "5f21480d-97e4-4522-8344-121fdae404c5",
   "metadata": {},
   "outputs": [
    {
     "data": {
      "text/plain": [
       "{'number': [2, 34, 3, 34, 34],\n",
       " 'assignment': (1, 2, 3, 4, 5, 6),\n",
       " 'launch_date': {12, 14, 28},\n",
       " 'class_time': {'web_dev': 8,\n",
       "  'data scince master': 9,\n",
       "  'java with dsa and system design': 7}}"
      ]
     },
     "execution_count": 45,
     "metadata": {},
     "output_type": "execute_result"
    }
   ],
   "source": [
    "d6"
   ]
  },
  {
   "cell_type": "code",
   "execution_count": 26,
   "id": "1c943dbb-18d4-41cf-beea-28bffeb2389e",
   "metadata": {},
   "outputs": [
    {
     "data": {
      "text/plain": [
       "7"
      ]
     },
     "execution_count": 26,
     "metadata": {},
     "output_type": "execute_result"
    }
   ],
   "source": [
    "d6['class_time']['java with dsa and system design']"
   ]
  },
  {
   "cell_type": "code",
   "execution_count": 46,
   "id": "6afc9f2b-6cee-4d20-82e7-7ac2ae37741f",
   "metadata": {},
   "outputs": [
    {
     "data": {
      "text/plain": [
       "{'number': [2, 34, 3, 34, 34],\n",
       " 'assignment': (1, 2, 3, 4, 5, 6),\n",
       " 'launch_date': {12, 14, 28},\n",
       " 'class_time': {'web_dev': 8,\n",
       "  'data scince master': 9,\n",
       "  'java with dsa and system design': 7}}"
      ]
     },
     "execution_count": 46,
     "metadata": {},
     "output_type": "execute_result"
    }
   ],
   "source": [
    "d6"
   ]
  },
  {
   "cell_type": "code",
   "execution_count": 29,
   "id": "6913078c-144f-46a3-8675-7952b28f5802",
   "metadata": {},
   "outputs": [],
   "source": [
    "d6['mentor']=['sudhansu','anurag','krish','hadyer']"
   ]
  },
  {
   "cell_type": "code",
   "execution_count": 30,
   "id": "49a93ab2-4c35-49bc-aaf5-6fc12c18fc6e",
   "metadata": {},
   "outputs": [
    {
     "data": {
      "text/plain": [
       "{'number': [2, 34, 3, 34, 34],\n",
       " 'assignment': (1, 2, 3, 4, 5, 6),\n",
       " 'launch_date': {12, 14, 28},\n",
       " 'class_time': {'web_dev': 8,\n",
       "  'data scince master': 9,\n",
       "  'java with dsa and system design': 7},\n",
       " 'mentor': ['sudhansu', 'anurag', 'krish', 'hadyer']}"
      ]
     },
     "execution_count": 30,
     "metadata": {},
     "output_type": "execute_result"
    }
   ],
   "source": [
    "d6"
   ]
  },
  {
   "cell_type": "code",
   "execution_count": 49,
   "id": "94320bbf-3629-4590-9052-67073981aade",
   "metadata": {},
   "outputs": [],
   "source": [
    "d6['number']=[3,4,85,96,34,55,78,99]"
   ]
  },
  {
   "cell_type": "code",
   "execution_count": 50,
   "id": "60f7cf37-2a6b-4d38-95fb-c5a6c2f91a64",
   "metadata": {},
   "outputs": [
    {
     "data": {
      "text/plain": [
       "{'number': [3, 4, 85, 96, 34, 55, 78, 99],\n",
       " 'assignment': (1, 2, 3, 4, 5, 6),\n",
       " 'launch_date': {12, 14, 28},\n",
       " 'class_time': {'web_dev': 8,\n",
       "  'data scince master': 9,\n",
       "  'java with dsa and system design': 7}}"
      ]
     },
     "execution_count": 50,
     "metadata": {},
     "output_type": "execute_result"
    }
   ],
   "source": [
    "d6"
   ]
  },
  {
   "cell_type": "code",
   "execution_count": 51,
   "id": "38f5936e-e3de-455d-a759-885fb5ad431c",
   "metadata": {},
   "outputs": [],
   "source": [
    "del d6['number']"
   ]
  },
  {
   "cell_type": "code",
   "execution_count": 39,
   "id": "ebc5a2d5-94fd-4fb6-948d-49d7482a03b4",
   "metadata": {},
   "outputs": [
    {
     "data": {
      "text/plain": [
       "{'assignment': (1, 2, 3, 4, 5, 6),\n",
       " 'launch_date': {12, 14, 28},\n",
       " 'class_time': {'web_dev': 8,\n",
       "  'data scince master': 9,\n",
       "  'java with dsa and system design': 7},\n",
       " 'mentor': ['sudhansu', 'anurag', 'krish', 'hadyer']}"
      ]
     },
     "execution_count": 39,
     "metadata": {},
     "output_type": "execute_result"
    }
   ],
   "source": [
    "d6"
   ]
  },
  {
   "cell_type": "code",
   "execution_count": 52,
   "id": "4f55171e-7564-4616-a90d-425c4db91a97",
   "metadata": {},
   "outputs": [
    {
     "data": {
      "text/plain": [
       "dict_keys(['assignment', 'launch_date', 'class_time'])"
      ]
     },
     "execution_count": 52,
     "metadata": {},
     "output_type": "execute_result"
    }
   ],
   "source": [
    "d6.keys()"
   ]
  },
  {
   "cell_type": "code",
   "execution_count": 55,
   "id": "ed7ff14f-9f58-4ff1-baf2-60f6b0007780",
   "metadata": {},
   "outputs": [
    {
     "data": {
      "text/plain": [
       "dict_items([('assignment', (1, 2, 3, 4, 5, 6)), ('launch_date', {12, 28, 14}), ('class_time', {'web_dev': 8, 'data scince master': 9, 'java with dsa and system design': 7})])"
      ]
     },
     "execution_count": 55,
     "metadata": {},
     "output_type": "execute_result"
    }
   ],
   "source": [
    "d6.items()"
   ]
  },
  {
   "cell_type": "code",
   "execution_count": 56,
   "id": "3ac520ab-5a84-4021-863e-0b9a7f3c2a63",
   "metadata": {},
   "outputs": [
    {
     "data": {
      "text/plain": [
       "[('assignment', (1, 2, 3, 4, 5, 6)),\n",
       " ('launch_date', {12, 14, 28}),\n",
       " ('class_time',\n",
       "  {'web_dev': 8,\n",
       "   'data scince master': 9,\n",
       "   'java with dsa and system design': 7})]"
      ]
     },
     "execution_count": 56,
     "metadata": {},
     "output_type": "execute_result"
    }
   ],
   "source": [
    "list(d6.items())"
   ]
  },
  {
   "cell_type": "code",
   "execution_count": 58,
   "id": "0887672e-42b6-42a1-b564-a051b40efa93",
   "metadata": {},
   "outputs": [
    {
     "data": {
      "text/plain": [
       "(1, 2, 3, 4, 5, 6)"
      ]
     },
     "execution_count": 58,
     "metadata": {},
     "output_type": "execute_result"
    }
   ],
   "source": [
    "d6.pop('assignment')"
   ]
  },
  {
   "cell_type": "code",
   "execution_count": 59,
   "id": "c254ee89-957b-4bf7-8da2-15268c908d63",
   "metadata": {},
   "outputs": [
    {
     "data": {
      "text/plain": [
       "{'launch_date': {12, 14, 28},\n",
       " 'class_time': {'web_dev': 8,\n",
       "  'data scince master': 9,\n",
       "  'java with dsa and system design': 7}}"
      ]
     },
     "execution_count": 59,
     "metadata": {},
     "output_type": "execute_result"
    }
   ],
   "source": [
    "d6"
   ]
  },
  {
   "cell_type": "code",
   "execution_count": 60,
   "id": "4028eed3-91bf-4945-b60c-eb611b52fd79",
   "metadata": {},
   "outputs": [
    {
     "ename": "TypeError",
     "evalue": "pop expected at least 1 argument, got 0",
     "output_type": "error",
     "traceback": [
      "\u001b[0;31m---------------------------------------------------------------------------\u001b[0m",
      "\u001b[0;31mTypeError\u001b[0m                                 Traceback (most recent call last)",
      "Cell \u001b[0;32mIn[60], line 1\u001b[0m\n\u001b[0;32m----> 1\u001b[0m \u001b[43md6\u001b[49m\u001b[38;5;241;43m.\u001b[39;49m\u001b[43mpop\u001b[49m\u001b[43m(\u001b[49m\u001b[43m)\u001b[49m\n",
      "\u001b[0;31mTypeError\u001b[0m: pop expected at least 1 argument, got 0"
     ]
    }
   ],
   "source": [
    "d6.pop()"
   ]
  },
  {
   "cell_type": "code",
   "execution_count": 8,
   "id": "f4a3d6ae-873f-43b3-8645-78e6b07907cb",
   "metadata": {},
   "outputs": [
    {
     "name": "stdout",
     "output_type": "stream",
     "text": [
      "you will be a part of A1 batch\n"
     ]
    }
   ],
   "source": [
    "marks= 65\n",
    "if marks >= 80 :\n",
    "    print(\"you will be a part of A0 batch\")\n",
    "    \n",
    "elif marks >= 60 and marks < 80:\n",
    "    print(\"you will be a part of A1 batch\")\n",
    "elif marks >= 40 and marks < 60 :\n",
    "    print (\"you will be a part of A2 batch\")\n",
    "else :\n",
    "    print(\"you will be a part of A3 batch\")"
   ]
  },
  {
   "cell_type": "code",
   "execution_count": 9,
   "id": "4361114c-bca8-454e-a2ed-ba991bfa4790",
   "metadata": {},
   "outputs": [
    {
     "name": "stdout",
     "output_type": "stream",
     "text": [
      "you will be a part of A0 batch\n"
     ]
    }
   ],
   "source": [
    "marks= 85\n",
    "if marks >= 80 :\n",
    "    print(\"you will be a part of A0 batch\")\n",
    "    \n",
    "elif marks >= 60 and marks < 80:\n",
    "    print(\"you will be a part of A1 batch\")\n",
    "elif marks >= 40 and marks < 60 :\n",
    "    print (\"you will be a part of A2 batch\")\n",
    "else :\n",
    "    print(\"you will be a part of A3 batch\")"
   ]
  },
  {
   "cell_type": "code",
   "execution_count": 10,
   "id": "315b1d25-ffc0-4b36-b87e-b1012aa18746",
   "metadata": {},
   "outputs": [
    {
     "name": "stdout",
     "output_type": "stream",
     "text": [
      "you will be a part of A3 batch\n"
     ]
    }
   ],
   "source": [
    "marks= 10\n",
    "if marks >= 80 :\n",
    "    print(\"you will be a part of A0 batch\")\n",
    "    \n",
    "elif marks >= 60 and marks < 80:\n",
    "    print(\"you will be a part of A1 batch\")\n",
    "elif marks >= 40 and marks < 60 :\n",
    "    print (\"you will be a part of A2 batch\")\n",
    "else :\n",
    "    print(\"you will be a part of A3 batch\")"
   ]
  },
  {
   "cell_type": "code",
   "execution_count": 11,
   "id": "3e1ba389-3c7b-4c01-91a1-73cbac39f56e",
   "metadata": {},
   "outputs": [
    {
     "name": "stdout",
     "output_type": "stream",
     "text": [
      "you will be a part of A2 batch\n"
     ]
    }
   ],
   "source": [
    "marks= 45\n",
    "if marks >= 80 :\n",
    "    print(\"you will be a part of A0 batch\")\n",
    "    \n",
    "elif marks >= 60 and marks < 80:\n",
    "    print(\"you will be a part of A1 batch\")\n",
    "elif marks >= 40 and marks < 60 :\n",
    "    print (\"you will be a part of A2 batch\")\n",
    "else :\n",
    "    print(\"you will be a part of A3 batch\")"
   ]
  },
  {
   "cell_type": "code",
   "execution_count": 12,
   "id": "080a36c2-d02c-450f-bb9f-ded4ada4ed7f",
   "metadata": {},
   "outputs": [
    {
     "name": "stdin",
     "output_type": "stream",
     "text": [
      "enter your marks 90\n"
     ]
    },
    {
     "name": "stdout",
     "output_type": "stream",
     "text": [
      "you will be a part of A0 batch\n"
     ]
    }
   ],
   "source": [
    "marks= int(input(\"enter your marks\"))\n",
    "\n",
    "\n",
    "\n",
    "\n",
    "if marks >= 80 :\n",
    "    print(\"you will be a part of A0 batch\")\n",
    "    \n",
    "elif marks >= 60 and marks < 80:\n",
    "    print(\"you will be a part of A1 batch\")\n",
    "elif marks >= 40 and marks < 60 :\n",
    "    print (\"you will be a part of A2 batch\")\n",
    "else :\n",
    "    print(\"you will be a part of A3 batch\")"
   ]
  },
  {
   "cell_type": "code",
   "execution_count": 13,
   "id": "2fd8a171-3ab9-4cfb-856a-e97621d971eb",
   "metadata": {},
   "outputs": [
    {
     "data": {
      "text/plain": [
       "90"
      ]
     },
     "execution_count": 13,
     "metadata": {},
     "output_type": "execute_result"
    }
   ],
   "source": [
    "marks"
   ]
  },
  {
   "cell_type": "code",
   "execution_count": 14,
   "id": "bd7672ab-bd6f-4653-bcc4-f16dfe0071af",
   "metadata": {},
   "outputs": [
    {
     "data": {
      "text/plain": [
       "int"
      ]
     },
     "execution_count": 14,
     "metadata": {},
     "output_type": "execute_result"
    }
   ],
   "source": [
    "type(marks)"
   ]
  },
  {
   "cell_type": "code",
   "execution_count": 15,
   "id": "5cbce50a-4599-4c30-9285-fe10a3553df0",
   "metadata": {},
   "outputs": [
    {
     "name": "stdin",
     "output_type": "stream",
     "text": [
      "enter price 500\n"
     ]
    },
    {
     "name": "stdout",
     "output_type": "stream",
     "text": [
      "i will purchase\n"
     ]
    }
   ],
   "source": [
    "price=int(input(\"enter price\"))\n",
    "if price > 1000:\n",
    "    print(\"i will not purchase\")\n",
    "else:\n",
    "    print(\"i will purchase\")"
   ]
  },
  {
   "cell_type": "code",
   "execution_count": 17,
   "id": "ea80a0b1-c205-4388-86fc-32d57a703455",
   "metadata": {},
   "outputs": [
    {
     "name": "stdin",
     "output_type": "stream",
     "text": [
      "enter price 7000\n"
     ]
    },
    {
     "name": "stdout",
     "output_type": "stream",
     "text": [
      "i will not purchase\n"
     ]
    }
   ],
   "source": [
    "price=int(input(\"enter price\"))\n",
    "if price > 1000:\n",
    "    print(\"i will not purchase\")"
   ]
  },
  {
   "cell_type": "code",
   "execution_count": 18,
   "id": "d64ee415-910b-4839-ab63-1982e3d08a06",
   "metadata": {},
   "outputs": [
    {
     "name": "stdin",
     "output_type": "stream",
     "text": [
      "enter price 500\n"
     ]
    }
   ],
   "source": [
    "price=int(input(\"enter price\"))\n",
    "if price > 1000:\n",
    "    print(\"i will not purchase\")"
   ]
  },
  {
   "cell_type": "code",
   "execution_count": 19,
   "id": "947389c7-4a46-4d9a-ad46-13b72d21369b",
   "metadata": {},
   "outputs": [
    {
     "name": "stdin",
     "output_type": "stream",
     "text": [
      "enter price 7000\n"
     ]
    },
    {
     "name": "stdout",
     "output_type": "stream",
     "text": [
      "i will not purchase\n",
      "this is too much\n"
     ]
    }
   ],
   "source": [
    "price=int(input(\"enter price\"))\n",
    "if price > 1000:\n",
    "    print(\"i will not purchase\")\n",
    "else:\n",
    "    print(\"i will purchase\")\n",
    "if price > 5000:\n",
    "    print(\"this is too much\")"
   ]
  },
  {
   "cell_type": "code",
   "execution_count": 23,
   "id": "e62bf9a6-84eb-40cd-897b-7de089c2c1b5",
   "metadata": {},
   "outputs": [
    {
     "name": "stdin",
     "output_type": "stream",
     "text": [
      "enter price 1500\n"
     ]
    },
    {
     "name": "stdout",
     "output_type": "stream",
     "text": [
      "i will not purchase\n",
      " this is ok\n"
     ]
    }
   ],
   "source": [
    "price=int(input(\"enter price\"))\n",
    "if price > 1000:\n",
    "    print(\"i will not purchase\")\n",
    "else:\n",
    "    print(\"i will purchase\")\n",
    "if price > 5000:\n",
    "    print(\"this is too much\")\n",
    "elif price <2000:\n",
    "    print (\" this is ok\")"
   ]
  },
  {
   "cell_type": "code",
   "execution_count": 1,
   "id": "46a45cbd-fa30-41c2-8d90-83073325f0b7",
   "metadata": {},
   "outputs": [],
   "source": [
    "l=[2,3,2,32,3,2,32,3,5,23,2,5]"
   ]
  },
  {
   "cell_type": "code",
   "execution_count": 2,
   "id": "4e82ffca-f6e2-41ce-9809-9b12233e70f9",
   "metadata": {},
   "outputs": [
    {
     "data": {
      "text/plain": [
       "3"
      ]
     },
     "execution_count": 2,
     "metadata": {},
     "output_type": "execute_result"
    }
   ],
   "source": [
    "l[0]+1"
   ]
  },
  {
   "cell_type": "code",
   "execution_count": 3,
   "id": "f6ad88d2-50c7-4a55-b93b-a3f6941dcd4c",
   "metadata": {},
   "outputs": [],
   "source": [
    "l1=[]"
   ]
  },
  {
   "cell_type": "code",
   "execution_count": 4,
   "id": "f885bef6-5f63-4741-8590-88757638f39c",
   "metadata": {},
   "outputs": [],
   "source": [
    "l1.append(l[0]+1)"
   ]
  },
  {
   "cell_type": "code",
   "execution_count": 5,
   "id": "e6dcc7e9-b677-4982-8e9d-f3d367cbab87",
   "metadata": {},
   "outputs": [
    {
     "data": {
      "text/plain": [
       "[3]"
      ]
     },
     "execution_count": 5,
     "metadata": {},
     "output_type": "execute_result"
    }
   ],
   "source": [
    "l1"
   ]
  },
  {
   "cell_type": "code",
   "execution_count": 6,
   "id": "744ff6db-544e-4974-a5e3-462429d3dcad",
   "metadata": {},
   "outputs": [],
   "source": [
    "l=[2,3,2,32,3,2,32,3,5,23,2,5]"
   ]
  },
  {
   "cell_type": "code",
   "execution_count": 11,
   "id": "8523a2d7-64b8-4d54-bfd3-21d2f0561bf3",
   "metadata": {},
   "outputs": [
    {
     "name": "stdout",
     "output_type": "stream",
     "text": [
      "3\n",
      "4\n",
      "3\n",
      "33\n",
      "4\n",
      "3\n",
      "33\n",
      "4\n",
      "6\n",
      "24\n",
      "3\n",
      "6\n"
     ]
    }
   ],
   "source": [
    "l1=[]\n",
    "for i in l:\n",
    "    print(i+1)\n",
    "    l1.append(i+1)\n",
    "    l1"
   ]
  },
  {
   "cell_type": "code",
   "execution_count": 12,
   "id": "5a935d4e-79d9-446f-adaa-d4b98a34b6b0",
   "metadata": {},
   "outputs": [
    {
     "data": {
      "text/plain": [
       "[3, 4, 3, 33, 4, 3, 33, 4, 6, 24, 3, 6]"
      ]
     },
     "execution_count": 12,
     "metadata": {},
     "output_type": "execute_result"
    }
   ],
   "source": [
    "l1"
   ]
  },
  {
   "cell_type": "code",
   "execution_count": 1,
   "id": "e9e3d640-c94a-4dc3-82b5-d26f39ab8902",
   "metadata": {},
   "outputs": [],
   "source": [
    "l=['sudh','kumar','pwskills', 'coursces']"
   ]
  },
  {
   "cell_type": "code",
   "execution_count": 6,
   "id": "290a432a-feb6-40af-b4cc-d90ff7d24bca",
   "metadata": {},
   "outputs": [
    {
     "name": "stdout",
     "output_type": "stream",
     "text": [
      "sudh\n",
      "kumar\n",
      "pwskills\n",
      "coursces\n"
     ]
    }
   ],
   "source": [
    "l1=[]\n",
    "for i in l :\n",
    "    print(i)\n",
    "    l1.append(i.upper())"
   ]
  },
  {
   "cell_type": "code",
   "execution_count": 7,
   "id": "c1528fad-3f9b-42f4-a881-671febd0ab9d",
   "metadata": {},
   "outputs": [
    {
     "data": {
      "text/plain": [
       "['SUDH', 'KUMAR', 'PWSKILLS', 'COURSCES']"
      ]
     },
     "execution_count": 7,
     "metadata": {},
     "output_type": "execute_result"
    }
   ],
   "source": [
    "l1"
   ]
  },
  {
   "cell_type": "code",
   "execution_count": 10,
   "id": "b0443bb7-76b3-4acc-986e-6cae56dcbb31",
   "metadata": {},
   "outputs": [],
   "source": [
    "l=[2,52,26,23,25,2,'sudh','kumar','pwskills',23.02,52.23,252.01,'pradip']"
   ]
  },
  {
   "cell_type": "code",
   "execution_count": 13,
   "id": "9d8322d5-058d-42a2-b50a-ded55b5984c6",
   "metadata": {},
   "outputs": [],
   "source": [
    "l1_nur=[]\n",
    "l2_str=[]\n",
    "for i in l :\n",
    "    if type(i)== int or type(i)==float:\n",
    "        l1_nur.append(i)\n",
    "    else :\n",
    "        l2_str.append(i)\n",
    "    "
   ]
  },
  {
   "cell_type": "code",
   "execution_count": 14,
   "id": "23d2a211-7f2f-40e1-9034-9c9d73bc8808",
   "metadata": {},
   "outputs": [
    {
     "data": {
      "text/plain": [
       "[2, 52, 26, 23, 25, 2, 23.02, 52.23, 252.01]"
      ]
     },
     "execution_count": 14,
     "metadata": {},
     "output_type": "execute_result"
    }
   ],
   "source": [
    "l1_nur"
   ]
  },
  {
   "cell_type": "code",
   "execution_count": 15,
   "id": "90d58c84-cc40-4f8a-b9e2-7d9202f3d09c",
   "metadata": {},
   "outputs": [
    {
     "data": {
      "text/plain": [
       "['sudh', 'kumar', 'pwskills', 'pradip']"
      ]
     },
     "execution_count": 15,
     "metadata": {},
     "output_type": "execute_result"
    }
   ],
   "source": [
    "l2_str"
   ]
  },
  {
   "cell_type": "code",
   "execution_count": null,
   "id": "adf29d3d-c704-4c42-8815-20cf8f818615",
   "metadata": {},
   "outputs": [],
   "source": []
  }
 ],
 "metadata": {
  "kernelspec": {
   "display_name": "Python 3 (ipykernel)",
   "language": "python",
   "name": "python3"
  },
  "language_info": {
   "codemirror_mode": {
    "name": "ipython",
    "version": 3
   },
   "file_extension": ".py",
   "mimetype": "text/x-python",
   "name": "python",
   "nbconvert_exporter": "python",
   "pygments_lexer": "ipython3",
   "version": "3.10.8"
  }
 },
 "nbformat": 4,
 "nbformat_minor": 5
}
